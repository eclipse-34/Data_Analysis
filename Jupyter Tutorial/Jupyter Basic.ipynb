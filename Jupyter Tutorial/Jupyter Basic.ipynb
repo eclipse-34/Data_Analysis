{
 "cells": [
  {
   "cell_type": "markdown",
   "id": "e123523b",
   "metadata": {},
   "source": [
    "# 주피터 노트북 사용법\n",
    "\n",
    "* `Shift + Enter` -> 셀 실행, 커서가 다음셀로 이동\n",
    "* `ctrl + Enter` -> 셀 실행, 커서가 실행된 셀에 유지\n",
    "* `Enter` -> 다시 편집상태로 돌아옴\n",
    "* `ESC` 키를 누르고\n",
    "    * `a` 키를 누르면 위에 셀 추가\n",
    "    * `b` 키를 누르면 아래에 셀 추가\n",
    "    * `dd` 키를 누르면 셀 삭제\n",
    "    * `m`키를 누르면 문서셀로 변경\n",
    "    * `y`키를 누르면 코드셀로 변경\n",
    "* `h`키 -> 다양한 단축기 확인 가능\n",
    "* 셀 삭제 후 Edit - Undo Delete Cells -> 삭제된 셀 복구\n",
    "* Kernel - Restart & Clear Output으로 Output 삭제\n",
    "* Kernel - Restart & Run All로 재시작 후 순차적으로 다시 실행\n",
    "* Nbextentions - Table of Contents기능 - 문서에 번호가 붙고 좌측에 Index가 생성됨\n",
    "\n",
    "## 마크다운(MarkDown)이란?\n",
    "* 코드와 함께 문서화 가능\n",
    "* 문서화를 할 수 있는 문법\n",
    "```\n",
    "백틱 3개:\n",
    "여러줄의 설명을 줄바꿈으로 쓰고자 할 때\n",
    "```\n",
    "* `강조`: 백틱으로 감싸기\n"
   ]
  },
  {
   "cell_type": "code",
   "execution_count": 2,
   "id": "560d7f81",
   "metadata": {},
   "outputs": [
    {
     "name": "stdout",
     "output_type": "stream",
     "text": [
      "Hello World!\n"
     ]
    }
   ],
   "source": [
    "print(\"Hello World!\")"
   ]
  },
  {
   "cell_type": "code",
   "execution_count": 5,
   "id": "6e077b65",
   "metadata": {},
   "outputs": [
    {
     "data": {
      "text/plain": [
       "3"
      ]
     },
     "execution_count": 5,
     "metadata": {},
     "output_type": "execute_result"
    }
   ],
   "source": [
    "a = 1\n",
    "b = 2\n",
    "a + b\n",
    "# View - Toggle Line Numbers로 줄 수 확인 가능"
   ]
  },
  {
   "cell_type": "code",
   "execution_count": 1,
   "id": "d43aba3a",
   "metadata": {},
   "outputs": [
    {
     "data": {
      "text/plain": [
       "'3.11.5 | packaged by Anaconda, Inc. | (main, Sep 11 2023, 13:26:23) [MSC v.1916 64 bit (AMD64)]'"
      ]
     },
     "execution_count": 1,
     "metadata": {},
     "output_type": "execute_result"
    }
   ],
   "source": [
    "import sys\n",
    "sys.version"
   ]
  }
 ],
 "metadata": {
  "kernelspec": {
   "display_name": "Python 3 (ipykernel)",
   "language": "python",
   "name": "python3"
  },
  "language_info": {
   "codemirror_mode": {
    "name": "ipython",
    "version": 3
   },
   "file_extension": ".py",
   "mimetype": "text/x-python",
   "name": "python",
   "nbconvert_exporter": "python",
   "pygments_lexer": "ipython3",
   "version": "3.11.5"
  },
  "toc": {
   "base_numbering": 1,
   "nav_menu": {},
   "number_sections": true,
   "sideBar": true,
   "skip_h1_title": false,
   "title_cell": "Table of Contents",
   "title_sidebar": "Contents",
   "toc_cell": false,
   "toc_position": {},
   "toc_section_display": true,
   "toc_window_display": false
  }
 },
 "nbformat": 4,
 "nbformat_minor": 5
}
